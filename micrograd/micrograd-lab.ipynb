{
 "cells": [
  {
   "cell_type": "code",
   "execution_count": 16,
   "id": "b6b9ff30",
   "metadata": {},
   "outputs": [],
   "source": [
    "class Value:\n",
    "    def __init__(self, data):\n",
    "        self.data = data\n",
    "        self.func = lambda : None\n",
    "        self.grad = 0\n",
    "    def buyuk_bebek(self):\n",
    "        out = Value(5)\n",
    "        t = 31\n",
    "        def kucuk_bebek():\n",
    "            self.grad = t\n",
    "        out.func = kucuk_bebek\n",
    "        return out\n",
    "#     def __repr__(self):\n",
    "#         return f\"Value(data={self.grad})\""
   ]
  },
  {
   "cell_type": "code",
   "execution_count": 20,
   "id": "3f225787",
   "metadata": {
    "scrolled": true
   },
   "outputs": [
    {
     "name": "stdout",
     "output_type": "stream",
     "text": [
      "0\n",
      "Value(data=0)\n",
      "0\n",
      "31\n",
      "0\n"
     ]
    },
    {
     "data": {
      "text/plain": [
       "31"
      ]
     },
     "execution_count": 20,
     "metadata": {},
     "output_type": "execute_result"
    }
   ],
   "source": [
    "ilk = Value(69)\n",
    "print(ilk.grad)\n",
    "ikinci = ilk.buyuk_bebek()\n",
    "print(ikinci)\n",
    "print(ikinci.grad)\n",
    "ikinci.func()\n",
    "print(ilk.grad)\n",
    "print(ikinci.grad)\n",
    "ilk.grad\n",
    "\n",
    "#ikinci.func() #beklentim self yani ikincinin gradinin 31 olmasi func cagirinca ama eger gidip de ilk.grad 31 oluyosa\n",
    "#ilk.grad degisti functanimlarkenki self ilke isaret ediyodu"
   ]
  },
  {
   "cell_type": "code",
   "execution_count": 3,
   "id": "47699f5c",
   "metadata": {},
   "outputs": [
    {
     "data": {
      "text/plain": [
       "[2, 3, 2, 5, 5]"
      ]
     },
     "execution_count": 3,
     "metadata": {},
     "output_type": "execute_result"
    }
   ],
   "source": [
    "nin = 2\n",
    "nouts = [3,2,5,5]\n",
    "sz = [nin] + nouts\n",
    "sz"
   ]
  },
  {
   "cell_type": "code",
   "execution_count": null,
   "id": "72ea5797",
   "metadata": {},
   "outputs": [],
   "source": [
    "layers = [1,2,3]\n",
    "\n",
    "# x for icinde tanimli, sonraki for'a nasil sirayet ediyor, aslinda functa tanimli olabilir\n",
    "def deney(x):\n",
    "    for _ in range(len(layers)):\n",
    "        x = layer(x)\n",
    "    return x\n",
    "\n",
    "def layer(x)\n",
    "    return x*2\n",
    "\n",
    "# beklenti deney(5)'de. 5*2 yapiyo x=10 oluyo, 10*2 x=20 oluyo, 20*2 40 returnluyo\n"
   ]
  }
 ],
 "metadata": {
  "kernelspec": {
   "display_name": "Python 3 (ipykernel)",
   "language": "python",
   "name": "python3"
  },
  "language_info": {
   "codemirror_mode": {
    "name": "ipython",
    "version": 3
   },
   "file_extension": ".py",
   "mimetype": "text/x-python",
   "name": "python",
   "nbconvert_exporter": "python",
   "pygments_lexer": "ipython3",
   "version": "3.11.1"
  }
 },
 "nbformat": 4,
 "nbformat_minor": 5
}
